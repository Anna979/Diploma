{
 "cells": [
  {
   "cell_type": "code",
   "execution_count": 1,
   "metadata": {},
   "outputs": [],
   "source": [
    "import pandas as pd\n",
    "\n",
    "from sklearn.neighbors import LocalOutlierFactor\n",
    "from sklearn.ensemble import IsolationForest\n",
    "from sklearn.covariance import EllipticEnvelope\n",
    "\n",
    "import statsmodels.regression.linear_model\n",
    "from sklearn.ensemble import RandomForestRegressor\n",
    "import numpy\n",
    "import math"
   ]
  },
  {
   "cell_type": "markdown",
   "metadata": {},
   "source": [
    "# counting null values\n",
    "\n",
    "returns the same average value for columns and for rows"
   ]
  },
  {
   "cell_type": "code",
   "execution_count": 2,
   "metadata": {},
   "outputs": [],
   "source": [
    "def avg_nulls(df):\n",
    "    X = df.drop(['target'], axis=1)\n",
    "    \n",
    "    missing_columns = X.isnull().sum().mean()*100/X.shape[0]\n",
    "    missing_rows = X.T.isnull().sum().mean()*100/X.shape[1]\n",
    "    \n",
    "    return missing_columns, missing_rows"
   ]
  },
  {
   "cell_type": "markdown",
   "metadata": {},
   "source": [
    "## preprocessing fuction\n",
    "\n",
    "df - indicators+target\n",
    "\n",
    "options for deleting outliers:\n",
    "* 'Local'\n",
    "* 'IsolationForest'\n",
    "* 'Elliptic'\n",
    "\n",
    "returns: \n",
    "* number of nulls filled with median\n",
    "* pandas.core.frame.DataFrame"
   ]
  },
  {
   "cell_type": "code",
   "execution_count": 3,
   "metadata": {},
   "outputs": [],
   "source": [
    "def preprocessing(df, feature_not_missing_percentage=0.4, row_not_missing_percentage = 0.5, method_ol='Local'):\n",
    "#deleting features with high rate of missing values\n",
    "    feature_not_missing = feature_not_missing_percentage*df.shape[0]\n",
    "    dataset = df.dropna(axis=1, thresh=feature_not_missing)\n",
    "#deleting rows with high rate of missing values\n",
    "    row_not_missing = row_not_missing_percentage*dataset.shape[1]\n",
    "    dataset = dataset.dropna(axis=0, thresh=row_not_missing)\n",
    "    \n",
    "    nulls_count = sum(dataset.isnull().sum())\n",
    "    \n",
    "#filling nulls with medians\n",
    "    for feature in list(dataset):\n",
    "        dataset[feature].fillna(dataset[feature].median(), inplace=True)\n",
    "\n",
    "#deleting outliers\n",
    "    if method_ol == 'Local':\n",
    "        #from sklearn.neighbors import LocalOutlierFactor\n",
    "        LOF=LocalOutlierFactor(n_neighbors=10)\n",
    "        df_with_lof = dataset.join(pd.DataFrame(LOF.fit_predict(dataset), index=dataset.index, columns=['lof']), how='left')\n",
    "        outlier = df_with_lof.loc[df_with_lof['lof']!=1].index\n",
    "    elif method_ol == 'IsolationForest':\n",
    "        #from sklearn.ensemble import IsolationForest\n",
    "        IF=IsolationForest(n_estimators=10)\n",
    "        df_with_forest = dataset.join(pd.DataFrame(IF.fit_predict(dataset), index=dataset.index, columns=['isolation_forest']), how='left')\n",
    "        outlier = df_with_forest.loc[df_with_forest['isolation_forest']!=1].index\n",
    "    elif method_ol == 'Elliptic':\n",
    "        #from sklearn.covariance import EllipticEnvelope\n",
    "        Elliptic=EllipticEnvelope(contamination=0.1)\n",
    "        df_with_ellip = dataset.join(pd.DataFrame(Elliptic.fit_predict(dataset), index=dataset.index, columns=['elliptic']), how='left')\n",
    "        outlier = df_with_ellip.loc[df_with_ellip['elliptic']!=1].index\n",
    "    \n",
    "    dataset = dataset.drop(outlier)\n",
    "    \n",
    "    return nulls_count, dataset"
   ]
  },
  {
   "cell_type": "markdown",
   "metadata": {},
   "source": [
    "# feature importances function\n",
    "\n",
    "options:\n",
    "* 'RandomForest'\n",
    "* 'Linear'\n",
    "* 'Correlation'\n",
    "\n",
    "returns: pandas.core.series.Series"
   ]
  },
  {
   "cell_type": "code",
   "execution_count": 4,
   "metadata": {},
   "outputs": [],
   "source": [
    "def feature_importances(dataset, method_fi='RandomForest'):\n",
    "       \n",
    "    Y = dataset['target']\n",
    "    X = dataset.drop(['target'], axis=1)\n",
    "    \n",
    "    if method_fi == 'RandomForest':\n",
    "        #from sklearn.ensemble import RandomForestRegressor\n",
    "        #import numpy\n",
    "        numpy.random.seed(0)\n",
    "        result_rf = RandomForestRegressor(n_estimators=10)\n",
    "        result_rf.fit(X,Y)\n",
    "        feature_imp = pd.Series(result_rf.feature_importances_, index=X.columns)\n",
    "    elif method_fi == 'Linear':\n",
    "        #import statsmodels.regression.linear_model\n",
    "        #import math\n",
    "        result_ols = statsmodels.regression.linear_model.OLS(Y, X).fit()\n",
    "        imp_ols = result_ols.params\n",
    "        feature_imp = imp_ols/math.sqrt(sum(imp_ols*imp_ols))\n",
    "    elif method_fi == 'Correlation':\n",
    "        feature_imp = dataset.corr().drop(['target'], axis=0)['target']\n",
    "        \n",
    "    return feature_imp"
   ]
  },
  {
   "cell_type": "markdown",
   "metadata": {},
   "source": [
    "If you don't need intermediate results you may use this:"
   ]
  },
  {
   "cell_type": "code",
   "execution_count": 5,
   "metadata": {},
   "outputs": [],
   "source": [
    "def preprocessing_feature_importances(df, feature_not_missing_percentage=0.4, row_not_missing_percentage = 0.5, method_ol='Local', method_fi='RandomForest'):\n",
    "    \n",
    "#deleting features with high rate of missing values\n",
    "    feature_not_missing = feature_not_missing_percentage*df.shape[0]\n",
    "    dataset = df.dropna(axis=1, thresh=feature_not_missing)\n",
    "#deleting rows with high rate of missing values\n",
    "    row_not_missing = row_not_missing_percentage*dataset.shape[1]\n",
    "    dataset = dataset.dropna(axis=0, thresh=row_not_missing)\n",
    "\n",
    "#number of nulls filled with median\n",
    "    nulls_count = sum(dataset.isnull().sum())\n",
    "    \n",
    "#filling nulls with medians\n",
    "    for feature in list(dataset):\n",
    "        dataset[feature].fillna(dataset[feature].median(), inplace=True)\n",
    "\n",
    "#deleting outliers\n",
    "    if method_ol == 'Local':\n",
    "        #from sklearn.neighbors import LocalOutlierFactor\n",
    "        LOF=LocalOutlierFactor(n_neighbors=10)\n",
    "        df_with_lof = dataset.join(pd.DataFrame(LOF.fit_predict(dataset), index=dataset.index, columns=['lof']), how='left')\n",
    "        outlier = df_with_lof.loc[df_with_lof['lof']!=1].index\n",
    "    elif method_ol == 'IsolationForest':\n",
    "        #from sklearn.ensemble import IsolationForest\n",
    "        IF=IsolationForest(n_estimators=10)\n",
    "        df_with_forest = dataset.join(pd.DataFrame(IF.fit_predict(dataset), index=dataset.index, columns=['isolation_forest']), how='left')\n",
    "        outlier = df_with_forest.loc[df_with_forest['isolation_forest']!=1].index\n",
    "    elif method_ol == 'Elliptic':\n",
    "        #from sklearn.covariance import EllipticEnvelope\n",
    "        Elliptic=EllipticEnvelope(contamination=0.1)\n",
    "        df_with_ellip = dataset.join(pd.DataFrame(Elliptic.fit_predict(dataset), index=dataset.index, columns=['elliptic']), how='left')\n",
    "        outlier = df_with_ellip.loc[df_with_ellip['elliptic']!=1].index\n",
    "    \n",
    "    dataset = dataset.drop(outlier)\n",
    "    \n",
    "#calculating feature importances\n",
    "    Y = dataset['target']\n",
    "    X = dataset.drop(['target'], axis=1)\n",
    "    \n",
    "    if method_fi == 'RandomForest':\n",
    "        #from sklearn.ensemble import RandomForestRegressor\n",
    "        #import numpy\n",
    "        numpy.random.seed(0)\n",
    "        result_rf = RandomForestRegressor(n_estimators=10)\n",
    "        result_rf.fit(X,Y)\n",
    "        feature_imp = pd.Series(result_rf.feature_importances_, index=X.columns)\n",
    "    elif method_fi == 'Linear':\n",
    "        #import statsmodels.regression.linear_model\n",
    "        #import math\n",
    "        result_ols = statsmodels.regression.linear_model.OLS(Y, X).fit()\n",
    "        imp_ols = result_ols.params\n",
    "        feature_imp = imp_ols/math.sqrt(sum(imp_ols*imp_ols))\n",
    "    elif method_fi == 'Correlation':\n",
    "        feature_imp = dataset.corr().drop(['target'], axis=0)['target']\n",
    "        \n",
    "    return nulls_count, feature_imp"
   ]
  },
  {
   "cell_type": "markdown",
   "metadata": {},
   "source": [
    "# Test"
   ]
  },
  {
   "cell_type": "code",
   "execution_count": 6,
   "metadata": {},
   "outputs": [],
   "source": [
    "indicators_2003 = pd.read_json('data_influence/indicators/ind2003.json').pivot(index='country_doc_id_id',columns='eng_name',values='value')\n",
    "indicators_2004 = pd.read_json('data_influence/indicators/ind2004.json').pivot(index='country_doc_id_id',columns='eng_name',values='value')\n",
    "indicators_2005 = pd.read_json('data_influence/indicators/ind2005.json').pivot(index='country_doc_id_id',columns='eng_name',values='value')\n",
    "indicators_2006 = pd.read_json('data_influence/indicators/ind2006.json').pivot(index='country_doc_id_id',columns='eng_name',values='value')\n",
    "indicators_2007 = pd.read_json('data_influence/indicators/ind2007.json').pivot(index='country_doc_id_id',columns='eng_name',values='value')\n",
    "indicators_2008 = pd.read_json('data_influence/indicators/ind2008.json').pivot(index='country_doc_id_id',columns='eng_name',values='value')\n",
    "indicators_2009 = pd.read_json('data_influence/indicators/ind2009.json').pivot(index='country_doc_id_id',columns='eng_name',values='value')\n",
    "indicators_2010 = pd.read_json('data_influence/indicators/ind2010.json').pivot(index='country_doc_id_id',columns='eng_name',values='value')\n",
    "indicators_2011 = pd.read_json('data_influence/indicators/ind2011.json').pivot(index='country_doc_id_id',columns='eng_name',values='value')\n",
    "indicators_2012 = pd.read_json('data_influence/indicators/ind2012.json').pivot(index='country_doc_id_id',columns='eng_name',values='value')\n",
    "indicators_2013 = pd.read_json('data_influence/indicators/ind2013.json').pivot(index='country_doc_id_id',columns='eng_name',values='value')\n",
    "indicators_2014 = pd.read_json('data_influence/indicators/ind2014.json').pivot(index='country_doc_id_id',columns='eng_name',values='value')\n",
    "indicators_2015 = pd.read_json('data_influence/indicators/ind2015.json').pivot(index='country_doc_id_id',columns='eng_name',values='value')\n",
    "indicators_2016 = pd.read_json('data_influence/indicators/ind2016.json').pivot(index='country_doc_id_id',columns='eng_name',values='value')\n",
    "\n",
    "indicators = {'indicators_2003': indicators_2003, 'indicators_2004': indicators_2004,\n",
    "            'indicators_2005': indicators_2005, 'indicators_2006': indicators_2006,\n",
    "            'indicators_2007': indicators_2007, 'indicators_2008': indicators_2008,\n",
    "            'indicators_2009': indicators_2009, 'indicators_2010': indicators_2010, \n",
    "             'indicators_2011': indicators_2011, 'indicators_2012': indicators_2012, \n",
    "             'indicators_2013': indicators_2013, 'indicators_2014': indicators_2014,\n",
    "             'indicators_2015': indicators_2015, 'indicators_2016': indicators_2016}"
   ]
  },
  {
   "cell_type": "code",
   "execution_count": 7,
   "metadata": {},
   "outputs": [],
   "source": [
    "bribery_2013 = pd.read_json('data_influence/crimes/bribery2013.json').set_index('country_doc_id_id')\n",
    "bribery_2014 = pd.read_json('data_influence/crimes/bribery2014.json').set_index('country_doc_id_id')\n",
    "bribery_2015 = pd.read_json('data_influence/crimes/bribery2015.json').set_index('country_doc_id_id')\n",
    "bribery_2016 = pd.read_json('data_influence/crimes/bribery2016.json').set_index('country_doc_id_id')\n",
    "corruption_2013 = pd.read_json('data_influence/crimes/corruption2013.json').set_index('country_doc_id_id')\n",
    "corruption_2014 = pd.read_json('data_influence/crimes/corruption2014.json').set_index('country_doc_id_id')\n",
    "corruption_2015 = pd.read_json('data_influence/crimes/corruption2015.json').set_index('country_doc_id_id')\n",
    "corruption_2016 = pd.read_json('data_influence/crimes/corruption2016.json').set_index('country_doc_id_id')\n",
    "kidnapping_2003 = pd.read_json('data_influence/crimes/kidnapping2003.json').set_index('country_doc_id_id')\n",
    "kidnapping_2004 = pd.read_json('data_influence/crimes/kidnapping2004.json').set_index('country_doc_id_id')\n",
    "kidnapping_2005 = pd.read_json('data_influence/crimes/kidnapping2005.json').set_index('country_doc_id_id')\n",
    "kidnapping_2006 = pd.read_json('data_influence/crimes/kidnapping2006.json').set_index('country_doc_id_id')\n",
    "kidnapping_2007 = pd.read_json('data_influence/crimes/kidnapping2007.json').set_index('country_doc_id_id')\n",
    "kidnapping_2008 = pd.read_json('data_influence/crimes/kidnapping2008.json').set_index('country_doc_id_id')\n",
    "kidnapping_2009 = pd.read_json('data_influence/crimes/kidnapping2009.json').set_index('country_doc_id_id')\n",
    "kidnapping_2010 = pd.read_json('data_influence/crimes/kidnapping2010.json').set_index('country_doc_id_id')\n",
    "kidnapping_2011 = pd.read_json('data_influence/crimes/kidnapping2011.json').set_index('country_doc_id_id')\n",
    "kidnapping_2012 = pd.read_json('data_influence/crimes/kidnapping2012.json').set_index('country_doc_id_id')\n",
    "kidnapping_2013 = pd.read_json('data_influence/crimes/kidnapping2013.json').set_index('country_doc_id_id')\n",
    "kidnapping_2014 = pd.read_json('data_influence/crimes/kidnapping2014.json').set_index('country_doc_id_id')\n",
    "kidnapping_2015 = pd.read_json('data_influence/crimes/kidnapping2015.json').set_index('country_doc_id_id')\n",
    "kidnapping_2016 = pd.read_json('data_influence/crimes/kidnapping2016.json').set_index('country_doc_id_id')\n",
    "serious_assault_2003 = pd.read_json('data_influence/crimes/serious_assault2003.json').set_index('country_doc_id_id')\n",
    "serious_assault_2004 = pd.read_json('data_influence/crimes/serious_assault2004.json').set_index('country_doc_id_id')\n",
    "serious_assault_2005 = pd.read_json('data_influence/crimes/serious_assault2005.json').set_index('country_doc_id_id')\n",
    "serious_assault_2006 = pd.read_json('data_influence/crimes/serious_assault2006.json').set_index('country_doc_id_id')\n",
    "serious_assault_2007 = pd.read_json('data_influence/crimes/serious_assault2007.json').set_index('country_doc_id_id')\n",
    "serious_assault_2008 = pd.read_json('data_influence/crimes/serious_assault2008.json').set_index('country_doc_id_id')\n",
    "serious_assault_2009 = pd.read_json('data_influence/crimes/serious_assault2009.json').set_index('country_doc_id_id')\n",
    "serious_assault_2010 = pd.read_json('data_influence/crimes/serious_assault2010.json').set_index('country_doc_id_id')\n",
    "serious_assault_2011 = pd.read_json('data_influence/crimes/serious_assault2011.json').set_index('country_doc_id_id')\n",
    "serious_assault_2012 = pd.read_json('data_influence/crimes/serious_assault2012.json').set_index('country_doc_id_id')\n",
    "serious_assault_2013 = pd.read_json('data_influence/crimes/serious_assault2013.json').set_index('country_doc_id_id')\n",
    "serious_assault_2014 = pd.read_json('data_influence/crimes/serious_assault2014.json').set_index('country_doc_id_id')\n",
    "serious_assault_2015 = pd.read_json('data_influence/crimes/serious_assault2015.json').set_index('country_doc_id_id')\n",
    "serious_assault_2016 = pd.read_json('data_influence/crimes/serious_assault2016.json').set_index('country_doc_id_id')\n",
    "theft_2003 = pd.read_json('data_influence/crimes/theft2003.json').set_index('country_doc_id_id')\n",
    "theft_2004 = pd.read_json('data_influence/crimes/theft2004.json').set_index('country_doc_id_id')\n",
    "theft_2005 = pd.read_json('data_influence/crimes/theft2005.json').set_index('country_doc_id_id')\n",
    "theft_2006 = pd.read_json('data_influence/crimes/theft2006.json').set_index('country_doc_id_id')\n",
    "theft_2007 = pd.read_json('data_influence/crimes/theft2007.json').set_index('country_doc_id_id')\n",
    "theft_2008 = pd.read_json('data_influence/crimes/theft2008.json').set_index('country_doc_id_id')\n",
    "theft_2009 = pd.read_json('data_influence/crimes/theft2009.json').set_index('country_doc_id_id')\n",
    "theft_2010 = pd.read_json('data_influence/crimes/theft2010.json').set_index('country_doc_id_id')\n",
    "theft_2011 = pd.read_json('data_influence/crimes/theft2011.json').set_index('country_doc_id_id')\n",
    "theft_2012 = pd.read_json('data_influence/crimes/theft2012.json').set_index('country_doc_id_id')\n",
    "theft_2013 = pd.read_json('data_influence/crimes/theft2013.json').set_index('country_doc_id_id')\n",
    "theft_2014 = pd.read_json('data_influence/crimes/theft2014.json').set_index('country_doc_id_id')\n",
    "theft_2015 = pd.read_json('data_influence/crimes/theft2015.json').set_index('country_doc_id_id')\n",
    "theft_2016 = pd.read_json('data_influence/crimes/theft2016.json').set_index('country_doc_id_id')\n",
    "\n",
    "targets = {'bribery_2013':bribery_2013, 'bribery_2014':bribery_2014, 'bribery_2015': bribery_2015, \n",
    "          'bribery_2016':bribery_2016, 'corruption_2013':corruption_2013, 'corruption_2014':corruption_2014, \n",
    "          'corruption_2015':corruption_2015, 'corruption_2016':corruption_2016, 'kidnapping_2003':kidnapping_2003, \n",
    "          'kidnapping_2004':kidnapping_2004, 'kidnapping_2005':kidnapping_2005, 'kidnapping_2006':kidnapping_2006,\n",
    "          'kidnapping_2007':kidnapping_2007, 'kidnapping_2008':kidnapping_2008, 'kidnapping_2009':kidnapping_2009, \n",
    "          'kidnapping_2010':kidnapping_2010, 'kidnapping_2011':kidnapping_2011, 'kidnapping_2012':kidnapping_2012, \n",
    "          'kidnapping_2013':kidnapping_2013, 'kidnapping_2014':kidnapping_2014, 'kidnapping_2015':kidnapping_2015,\n",
    "          'kidnapping_2016':kidnapping_2016, 'serious_assault_2003':serious_assault_2003, \n",
    "          'serious_assault_2004':serious_assault_2004, 'serious_assault_2005':serious_assault_2005, \n",
    "          'serious_assault_2006':serious_assault_2006, 'serious_assault_2007':serious_assault_2007, \n",
    "          'serious_assault_2008':serious_assault_2008, 'serious_assault_2009':serious_assault_2009,\n",
    "          'serious_assault_2010':serious_assault_2010, 'serious_assault_2011':serious_assault_2011, \n",
    "          'serious_assault_2012':serious_assault_2012, 'serious_assault_2013':serious_assault_2013, \n",
    "          'serious_assault_2014':serious_assault_2014, 'serious_assault_2015':serious_assault_2015, \n",
    "          'serious_assault_2016':serious_assault_2016, 'theft_2003':theft_2003, 'theft_2004':theft_2004, \n",
    "          'theft_2005':theft_2005, 'theft_2006':theft_2006, 'theft_2007':theft_2007, 'theft_2008':theft_2008, \n",
    "          'theft_2009':theft_2009, 'theft_2010':theft_2010, 'theft_2011':theft_2011, 'theft_2012':theft_2012, \n",
    "          'theft_2013':theft_2013, 'theft_2014':theft_2014, 'theft_2015':theft_2015, 'theft_2016':theft_2016}"
   ]
  },
  {
   "cell_type": "code",
   "execution_count": 12,
   "metadata": {},
   "outputs": [
    {
     "data": {
      "text/plain": [
       "(33.54908306364617, 33.54908306364617)"
      ]
     },
     "execution_count": 12,
     "metadata": {},
     "output_type": "execute_result"
    }
   ],
   "source": [
    "data = indicators_2014.merge(serious_assault_2014,on='country_doc_id_id')\n",
    "avg_nulls(data)"
   ]
  },
  {
   "cell_type": "code",
   "execution_count": 13,
   "metadata": {},
   "outputs": [
    {
     "data": {
      "text/plain": [
       "(146,\n",
       " GDP per capita (current US$)                                                                                                  0.165590\n",
       " GINI index (World Bank estimate)                                                                                              0.095942\n",
       " Government expenditure on education, total (% of GDP)                                                                         0.050200\n",
       " Population growth (annual %)                                                                                                  0.087824\n",
       " Share of youth not in education, employment or training, total (% of youth population)                                        0.105291\n",
       " UIS: Percentage Of Population Age 25+ With At Least A Completed Bachelor's Or Equivalent Degree (ISCED 6 Or Higher). Total    0.235460\n",
       " Unemployment, total (% of total labor force) (national estimate)                                                              0.259693\n",
       " dtype: float64)"
      ]
     },
     "execution_count": 13,
     "metadata": {},
     "output_type": "execute_result"
    }
   ],
   "source": [
    "preprocessing_feature_importances(data)"
   ]
  },
  {
   "cell_type": "markdown",
   "metadata": {},
   "source": [
    "# TRASH"
   ]
  },
  {
   "cell_type": "markdown",
   "metadata": {},
   "source": [
    "# total nulls in data"
   ]
  },
  {
   "cell_type": "code",
   "execution_count": null,
   "metadata": {},
   "outputs": [],
   "source": [
    "null_count = pd.DataFrame(index = indicators_2010.isnull().sum().index)\n",
    "null_count['2003'] = indicators_2003.isnull().sum()\n",
    "null_count['2004'] = indicators_2004.isnull().sum()\n",
    "null_count['2005'] = indicators_2005.isnull().sum()\n",
    "null_count['2006'] = indicators_2006.isnull().sum()\n",
    "null_count['2007'] = indicators_2007.isnull().sum()\n",
    "null_count['2008'] = indicators_2008.isnull().sum()\n",
    "null_count['2009'] = indicators_2009.isnull().sum()\n",
    "null_count['2010'] = indicators_2010.isnull().sum()\n",
    "null_count['2011'] = indicators_2011.isnull().sum()\n",
    "null_count['2012'] = indicators_2012.isnull().sum()\n",
    "null_count['2013'] = indicators_2013.isnull().sum()\n",
    "null_count['2014'] = indicators_2014.isnull().sum()\n",
    "null_count['2015'] = indicators_2015.isnull().sum()\n",
    "null_count['2016'] = indicators_2016.isnull().sum()\n",
    "null_count"
   ]
  },
  {
   "cell_type": "markdown",
   "metadata": {},
   "source": [
    "In time period since 2012 till 2015 there are 216 values in total. In other cases - 217."
   ]
  },
  {
   "cell_type": "markdown",
   "metadata": {},
   "source": [
    "Theft data is the fullest, so let's take it for example."
   ]
  },
  {
   "cell_type": "code",
   "execution_count": 11,
   "metadata": {},
   "outputs": [
    {
     "data": {
      "text/html": [
       "<div>\n",
       "<style scoped>\n",
       "    .dataframe tbody tr th:only-of-type {\n",
       "        vertical-align: middle;\n",
       "    }\n",
       "\n",
       "    .dataframe tbody tr th {\n",
       "        vertical-align: top;\n",
       "    }\n",
       "\n",
       "    .dataframe thead th {\n",
       "        text-align: right;\n",
       "    }\n",
       "</style>\n",
       "<table border=\"1\" class=\"dataframe\">\n",
       "  <thead>\n",
       "    <tr style=\"text-align: right;\">\n",
       "      <th></th>\n",
       "      <th>Barro-Lee: Percentage Of Population Age 15+ With No Education</th>\n",
       "      <th>GDP per capita (current US$)</th>\n",
       "      <th>GINI index (World Bank estimate)</th>\n",
       "      <th>Government expenditure on education, total (% of GDP)</th>\n",
       "      <th>Literacy rate, adult total (% of people ages 15 and above)</th>\n",
       "      <th>Population growth (annual %)</th>\n",
       "      <th>Share of youth not in education, employment or training, total (% of youth population)</th>\n",
       "      <th>Total alcohol consumption per capita (liters of pure alcohol, projected estimates, 15+ years of age)</th>\n",
       "      <th>UIS: Percentage Of Population Age 25+ With At Least A Completed Bachelor's Or Equivalent Degree (ISCED 6 Or Higher). Total</th>\n",
       "      <th>UIS: Percentage Of Population Age 25+ With No Schooling. Total</th>\n",
       "      <th>Unemployment, total (% of total labor force) (national estimate)</th>\n",
       "      <th>target</th>\n",
       "    </tr>\n",
       "    <tr>\n",
       "      <th>country_doc_id_id</th>\n",
       "      <th></th>\n",
       "      <th></th>\n",
       "      <th></th>\n",
       "      <th></th>\n",
       "      <th></th>\n",
       "      <th></th>\n",
       "      <th></th>\n",
       "      <th></th>\n",
       "      <th></th>\n",
       "      <th></th>\n",
       "      <th></th>\n",
       "      <th></th>\n",
       "    </tr>\n",
       "  </thead>\n",
       "  <tbody>\n",
       "    <tr>\n",
       "      <th>ALB</th>\n",
       "      <td>3.28</td>\n",
       "      <td>4094.362119</td>\n",
       "      <td>NaN</td>\n",
       "      <td>NaN</td>\n",
       "      <td>NaN</td>\n",
       "      <td>-0.496462</td>\n",
       "      <td>29.501900</td>\n",
       "      <td>7.9</td>\n",
       "      <td>NaN</td>\n",
       "      <td>NaN</td>\n",
       "      <td>14.086000</td>\n",
       "      <td>3978</td>\n",
       "    </tr>\n",
       "    <tr>\n",
       "      <th>AND</th>\n",
       "      <td>NaN</td>\n",
       "      <td>39736.354063</td>\n",
       "      <td>NaN</td>\n",
       "      <td>3.05742</td>\n",
       "      <td>NaN</td>\n",
       "      <td>-0.016577</td>\n",
       "      <td>NaN</td>\n",
       "      <td>11.4</td>\n",
       "      <td>NaN</td>\n",
       "      <td>NaN</td>\n",
       "      <td>NaN</td>\n",
       "      <td>1117</td>\n",
       "    </tr>\n",
       "    <tr>\n",
       "      <th>ARM</th>\n",
       "      <td>0.60</td>\n",
       "      <td>3218.372707</td>\n",
       "      <td>30.0</td>\n",
       "      <td>3.24900</td>\n",
       "      <td>NaN</td>\n",
       "      <td>-0.373712</td>\n",
       "      <td>NaN</td>\n",
       "      <td>5.6</td>\n",
       "      <td>NaN</td>\n",
       "      <td>NaN</td>\n",
       "      <td>19.007999</td>\n",
       "      <td>3664</td>\n",
       "    </tr>\n",
       "    <tr>\n",
       "      <th>AUS</th>\n",
       "      <td>0.72</td>\n",
       "      <td>52022.125596</td>\n",
       "      <td>34.7</td>\n",
       "      <td>5.55006</td>\n",
       "      <td>NaN</td>\n",
       "      <td>1.555490</td>\n",
       "      <td>11.320000</td>\n",
       "      <td>12.5</td>\n",
       "      <td>NaN</td>\n",
       "      <td>0.13187</td>\n",
       "      <td>5.211300</td>\n",
       "      <td>477265</td>\n",
       "    </tr>\n",
       "    <tr>\n",
       "      <th>AUT</th>\n",
       "      <td>1.29</td>\n",
       "      <td>46858.043273</td>\n",
       "      <td>30.3</td>\n",
       "      <td>5.70048</td>\n",
       "      <td>NaN</td>\n",
       "      <td>0.240394</td>\n",
       "      <td>7.420000</td>\n",
       "      <td>12.0</td>\n",
       "      <td>NaN</td>\n",
       "      <td>NaN</td>\n",
       "      <td>4.820000</td>\n",
       "      <td>155857</td>\n",
       "    </tr>\n",
       "    <tr>\n",
       "      <th>...</th>\n",
       "      <td>...</td>\n",
       "      <td>...</td>\n",
       "      <td>...</td>\n",
       "      <td>...</td>\n",
       "      <td>...</td>\n",
       "      <td>...</td>\n",
       "      <td>...</td>\n",
       "      <td>...</td>\n",
       "      <td>...</td>\n",
       "      <td>...</td>\n",
       "      <td>...</td>\n",
       "      <td>...</td>\n",
       "    </tr>\n",
       "    <tr>\n",
       "      <th>UKR</th>\n",
       "      <td>1.25</td>\n",
       "      <td>2965.142365</td>\n",
       "      <td>24.8</td>\n",
       "      <td>NaN</td>\n",
       "      <td>NaN</td>\n",
       "      <td>-0.397285</td>\n",
       "      <td>NaN</td>\n",
       "      <td>14.3</td>\n",
       "      <td>NaN</td>\n",
       "      <td>NaN</td>\n",
       "      <td>8.100000</td>\n",
       "      <td>254755</td>\n",
       "    </tr>\n",
       "    <tr>\n",
       "      <th>URY</th>\n",
       "      <td>1.34</td>\n",
       "      <td>11992.016627</td>\n",
       "      <td>44.5</td>\n",
       "      <td>NaN</td>\n",
       "      <td>98.07271</td>\n",
       "      <td>0.286155</td>\n",
       "      <td>18.123600</td>\n",
       "      <td>9.2</td>\n",
       "      <td>NaN</td>\n",
       "      <td>1.62115</td>\n",
       "      <td>7.158200</td>\n",
       "      <td>95269</td>\n",
       "    </tr>\n",
       "    <tr>\n",
       "      <th>USA</th>\n",
       "      <td>0.35</td>\n",
       "      <td>48466.823375</td>\n",
       "      <td>40.3</td>\n",
       "      <td>NaN</td>\n",
       "      <td>NaN</td>\n",
       "      <td>0.827846</td>\n",
       "      <td>19.884899</td>\n",
       "      <td>9.3</td>\n",
       "      <td>NaN</td>\n",
       "      <td>0.39338</td>\n",
       "      <td>9.633400</td>\n",
       "      <td>6204601</td>\n",
       "    </tr>\n",
       "    <tr>\n",
       "      <th>VCT</th>\n",
       "      <td>NaN</td>\n",
       "      <td>6292.789829</td>\n",
       "      <td>NaN</td>\n",
       "      <td>5.08523</td>\n",
       "      <td>NaN</td>\n",
       "      <td>-0.029555</td>\n",
       "      <td>NaN</td>\n",
       "      <td>6.8</td>\n",
       "      <td>NaN</td>\n",
       "      <td>NaN</td>\n",
       "      <td>NaN</td>\n",
       "      <td>1901</td>\n",
       "    </tr>\n",
       "    <tr>\n",
       "      <th>XKX</th>\n",
       "      <td>NaN</td>\n",
       "      <td>3283.483451</td>\n",
       "      <td>33.3</td>\n",
       "      <td>NaN</td>\n",
       "      <td>NaN</td>\n",
       "      <td>0.803249</td>\n",
       "      <td>NaN</td>\n",
       "      <td>NaN</td>\n",
       "      <td>NaN</td>\n",
       "      <td>NaN</td>\n",
       "      <td>NaN</td>\n",
       "      <td>15234</td>\n",
       "    </tr>\n",
       "  </tbody>\n",
       "</table>\n",
       "<p>109 rows × 12 columns</p>\n",
       "</div>"
      ],
      "text/plain": [
       "                   Barro-Lee: Percentage Of Population Age 15+ With No Education  \\\n",
       "country_doc_id_id                                                                  \n",
       "ALB                                                             3.28               \n",
       "AND                                                              NaN               \n",
       "ARM                                                             0.60               \n",
       "AUS                                                             0.72               \n",
       "AUT                                                             1.29               \n",
       "...                                                              ...               \n",
       "UKR                                                             1.25               \n",
       "URY                                                             1.34               \n",
       "USA                                                             0.35               \n",
       "VCT                                                              NaN               \n",
       "XKX                                                              NaN               \n",
       "\n",
       "                   GDP per capita (current US$)  \\\n",
       "country_doc_id_id                                 \n",
       "ALB                                 4094.362119   \n",
       "AND                                39736.354063   \n",
       "ARM                                 3218.372707   \n",
       "AUS                                52022.125596   \n",
       "AUT                                46858.043273   \n",
       "...                                         ...   \n",
       "UKR                                 2965.142365   \n",
       "URY                                11992.016627   \n",
       "USA                                48466.823375   \n",
       "VCT                                 6292.789829   \n",
       "XKX                                 3283.483451   \n",
       "\n",
       "                   GINI index (World Bank estimate)  \\\n",
       "country_doc_id_id                                     \n",
       "ALB                                             NaN   \n",
       "AND                                             NaN   \n",
       "ARM                                            30.0   \n",
       "AUS                                            34.7   \n",
       "AUT                                            30.3   \n",
       "...                                             ...   \n",
       "UKR                                            24.8   \n",
       "URY                                            44.5   \n",
       "USA                                            40.3   \n",
       "VCT                                             NaN   \n",
       "XKX                                            33.3   \n",
       "\n",
       "                   Government expenditure on education, total (% of GDP)  \\\n",
       "country_doc_id_id                                                          \n",
       "ALB                                                              NaN       \n",
       "AND                                                          3.05742       \n",
       "ARM                                                          3.24900       \n",
       "AUS                                                          5.55006       \n",
       "AUT                                                          5.70048       \n",
       "...                                                              ...       \n",
       "UKR                                                              NaN       \n",
       "URY                                                              NaN       \n",
       "USA                                                              NaN       \n",
       "VCT                                                          5.08523       \n",
       "XKX                                                              NaN       \n",
       "\n",
       "                   Literacy rate, adult total (% of people ages 15 and above)  \\\n",
       "country_doc_id_id                                                               \n",
       "ALB                                                              NaN            \n",
       "AND                                                              NaN            \n",
       "ARM                                                              NaN            \n",
       "AUS                                                              NaN            \n",
       "AUT                                                              NaN            \n",
       "...                                                              ...            \n",
       "UKR                                                              NaN            \n",
       "URY                                                         98.07271            \n",
       "USA                                                              NaN            \n",
       "VCT                                                              NaN            \n",
       "XKX                                                              NaN            \n",
       "\n",
       "                   Population growth (annual %)  \\\n",
       "country_doc_id_id                                 \n",
       "ALB                                   -0.496462   \n",
       "AND                                   -0.016577   \n",
       "ARM                                   -0.373712   \n",
       "AUS                                    1.555490   \n",
       "AUT                                    0.240394   \n",
       "...                                         ...   \n",
       "UKR                                   -0.397285   \n",
       "URY                                    0.286155   \n",
       "USA                                    0.827846   \n",
       "VCT                                   -0.029555   \n",
       "XKX                                    0.803249   \n",
       "\n",
       "                   Share of youth not in education, employment or training, total (% of youth population)  \\\n",
       "country_doc_id_id                                                                                           \n",
       "ALB                                                        29.501900                                        \n",
       "AND                                                              NaN                                        \n",
       "ARM                                                              NaN                                        \n",
       "AUS                                                        11.320000                                        \n",
       "AUT                                                         7.420000                                        \n",
       "...                                                              ...                                        \n",
       "UKR                                                              NaN                                        \n",
       "URY                                                        18.123600                                        \n",
       "USA                                                        19.884899                                        \n",
       "VCT                                                              NaN                                        \n",
       "XKX                                                              NaN                                        \n",
       "\n",
       "                   Total alcohol consumption per capita (liters of pure alcohol, projected estimates, 15+ years of age)  \\\n",
       "country_doc_id_id                                                                                                         \n",
       "ALB                                                              7.9                                                      \n",
       "AND                                                             11.4                                                      \n",
       "ARM                                                              5.6                                                      \n",
       "AUS                                                             12.5                                                      \n",
       "AUT                                                             12.0                                                      \n",
       "...                                                              ...                                                      \n",
       "UKR                                                             14.3                                                      \n",
       "URY                                                              9.2                                                      \n",
       "USA                                                              9.3                                                      \n",
       "VCT                                                              6.8                                                      \n",
       "XKX                                                              NaN                                                      \n",
       "\n",
       "                   UIS: Percentage Of Population Age 25+ With At Least A Completed Bachelor's Or Equivalent Degree (ISCED 6 Or Higher). Total  \\\n",
       "country_doc_id_id                                                                                                                               \n",
       "ALB                                                              NaN                                                                            \n",
       "AND                                                              NaN                                                                            \n",
       "ARM                                                              NaN                                                                            \n",
       "AUS                                                              NaN                                                                            \n",
       "AUT                                                              NaN                                                                            \n",
       "...                                                              ...                                                                            \n",
       "UKR                                                              NaN                                                                            \n",
       "URY                                                              NaN                                                                            \n",
       "USA                                                              NaN                                                                            \n",
       "VCT                                                              NaN                                                                            \n",
       "XKX                                                              NaN                                                                            \n",
       "\n",
       "                   UIS: Percentage Of Population Age 25+ With No Schooling. Total  \\\n",
       "country_doc_id_id                                                                   \n",
       "ALB                                                              NaN                \n",
       "AND                                                              NaN                \n",
       "ARM                                                              NaN                \n",
       "AUS                                                          0.13187                \n",
       "AUT                                                              NaN                \n",
       "...                                                              ...                \n",
       "UKR                                                              NaN                \n",
       "URY                                                          1.62115                \n",
       "USA                                                          0.39338                \n",
       "VCT                                                              NaN                \n",
       "XKX                                                              NaN                \n",
       "\n",
       "                   Unemployment, total (% of total labor force) (national estimate)  \\\n",
       "country_doc_id_id                                                                     \n",
       "ALB                                                        14.086000                  \n",
       "AND                                                              NaN                  \n",
       "ARM                                                        19.007999                  \n",
       "AUS                                                         5.211300                  \n",
       "AUT                                                         4.820000                  \n",
       "...                                                              ...                  \n",
       "UKR                                                         8.100000                  \n",
       "URY                                                         7.158200                  \n",
       "USA                                                         9.633400                  \n",
       "VCT                                                              NaN                  \n",
       "XKX                                                              NaN                  \n",
       "\n",
       "                    target  \n",
       "country_doc_id_id           \n",
       "ALB                   3978  \n",
       "AND                   1117  \n",
       "ARM                   3664  \n",
       "AUS                 477265  \n",
       "AUT                 155857  \n",
       "...                    ...  \n",
       "UKR                 254755  \n",
       "URY                  95269  \n",
       "USA                6204601  \n",
       "VCT                   1901  \n",
       "XKX                  15234  \n",
       "\n",
       "[109 rows x 12 columns]"
      ]
     },
     "execution_count": 11,
     "metadata": {},
     "output_type": "execute_result"
    }
   ],
   "source": [
    "data = indicators_2010.merge(theft_2010,on='country_doc_id_id')\n",
    "data"
   ]
  },
  {
   "cell_type": "code",
   "execution_count": 8,
   "metadata": {},
   "outputs": [
    {
     "data": {
      "text/plain": [
       "['Barro-Lee: Percentage Of Population Age 15+ With No Education',\n",
       " 'GDP per capita (current US$)',\n",
       " 'GINI index (World Bank estimate)',\n",
       " 'Government expenditure on education, total (% of GDP)',\n",
       " 'Literacy rate, adult total (% of people ages 15 and above)',\n",
       " 'Population growth (annual %)',\n",
       " 'Share of youth not in education, employment or training, total (% of youth population)',\n",
       " 'Total alcohol consumption per capita (liters of pure alcohol, projected estimates, 15+ years of age)',\n",
       " \"UIS: Percentage Of Population Age 25+ With At Least A Completed Bachelor's Or Equivalent Degree (ISCED 6 Or Higher). Total\",\n",
       " 'UIS: Percentage Of Population Age 25+ With No Schooling. Total',\n",
       " 'Unemployment, total (% of total labor force) (national estimate)',\n",
       " 'target']"
      ]
     },
     "execution_count": 8,
     "metadata": {},
     "output_type": "execute_result"
    }
   ],
   "source": [
    "list(data)"
   ]
  },
  {
   "cell_type": "markdown",
   "metadata": {},
   "source": [
    "# counting nulls"
   ]
  },
  {
   "cell_type": "code",
   "execution_count": 39,
   "metadata": {},
   "outputs": [],
   "source": [
    "def avg_nulls(df):\n",
    "    X = df.drop(['target'], axis=1)\n",
    "    \n",
    "    missing_columns = X.isnull().sum().mean()*100/X.shape[0]\n",
    "    missing_rows = X.T.isnull().sum().mean()*100/X.shape[1]\n",
    "    \n",
    "    return missing_columns, missing_rows\n",
    "    "
   ]
  },
  {
   "cell_type": "code",
   "execution_count": 40,
   "metadata": {},
   "outputs": [
    {
     "data": {
      "text/plain": [
       "(34.361968306922435, 34.361968306922435)"
      ]
     },
     "execution_count": 40,
     "metadata": {},
     "output_type": "execute_result"
    }
   ],
   "source": [
    "avg_nulls(data)"
   ]
  },
  {
   "cell_type": "markdown",
   "metadata": {},
   "source": [
    "# handling missing values"
   ]
  },
  {
   "cell_type": "markdown",
   "metadata": {},
   "source": [
    "As data for 2010 contains all features, I will use this DataFrame for testing."
   ]
  },
  {
   "cell_type": "code",
   "execution_count": null,
   "metadata": {},
   "outputs": [],
   "source": [
    "data"
   ]
  },
  {
   "cell_type": "code",
   "execution_count": null,
   "metadata": {},
   "outputs": [],
   "source": [
    "mean_median = pd.DataFrame(data={'means':data.mean(),\n",
    "                                 'medians': data.median()})\n",
    "mean_median"
   ]
  },
  {
   "cell_type": "markdown",
   "metadata": {},
   "source": [
    "### deleting features with a high rate of missing values"
   ]
  },
  {
   "cell_type": "code",
   "execution_count": null,
   "metadata": {},
   "outputs": [],
   "source": [
    "feature_not_missing_percentage=0.6\n",
    "feature_missing = feature_not_missing_percentage*data.shape[0]\n",
    "feature_missing"
   ]
  },
  {
   "cell_type": "code",
   "execution_count": null,
   "metadata": {},
   "outputs": [],
   "source": [
    "indicators_without_nulls = data.dropna(axis=1, thresh=feature_missing)\n",
    "#indicators_without_nulls"
   ]
  },
  {
   "cell_type": "code",
   "execution_count": null,
   "metadata": {},
   "outputs": [],
   "source": [
    "indicators_without_nulls.isnull().sum()"
   ]
  },
  {
   "cell_type": "markdown",
   "metadata": {},
   "source": [
    "### deleting rows with a high rate of missing values"
   ]
  },
  {
   "cell_type": "code",
   "execution_count": null,
   "metadata": {},
   "outputs": [],
   "source": [
    "row_not_missing_percentage = 0.5\n",
    "row_missing = row_not_missing_percentage*indicators_without_nulls.shape[1]\n",
    "row_missing"
   ]
  },
  {
   "cell_type": "code",
   "execution_count": null,
   "metadata": {},
   "outputs": [],
   "source": [
    "indicators_without_nulls = indicators_without_nulls.dropna(axis=0, thresh=row_missing)\n",
    "#indicators_without_nulls"
   ]
  },
  {
   "cell_type": "code",
   "execution_count": null,
   "metadata": {},
   "outputs": [],
   "source": [
    "indicators_without_nulls.isnull().sum()"
   ]
  },
  {
   "cell_type": "markdown",
   "metadata": {},
   "source": [
    "### filling nulls with medians"
   ]
  },
  {
   "cell_type": "code",
   "execution_count": null,
   "metadata": {},
   "outputs": [],
   "source": [
    "mean_median = pd.DataFrame(data={'means':indicators_without_nulls.mean(),\n",
    "                                 'medians': indicators_without_nulls.median()})\n",
    "mean_median"
   ]
  },
  {
   "cell_type": "code",
   "execution_count": null,
   "metadata": {},
   "outputs": [],
   "source": [
    "for feature in list(indicators_without_nulls):\n",
    "    indicators_without_nulls[feature].fillna(indicators_without_nulls[feature].median(), inplace=True)\n",
    "\n",
    "indicators_without_nulls"
   ]
  },
  {
   "cell_type": "code",
   "execution_count": null,
   "metadata": {},
   "outputs": [],
   "source": [
    "indicators_without_nulls.isnull().sum()"
   ]
  },
  {
   "cell_type": "code",
   "execution_count": 47,
   "metadata": {},
   "outputs": [],
   "source": [
    "def handling_nulls(df):\n",
    "#deleting features with high rate of missing values\n",
    "    feature_not_missing_percentage=0.3\n",
    "    feature_not_missing = feature_not_missing_percentage*df.shape[0]\n",
    "    without_nulls = df.dropna(axis=1, thresh=feature_not_missing)\n",
    "#deleting rows with high rate of missing values\n",
    "    row_not_missing_percentage = 0.5\n",
    "    row_not_missing = row_not_missing_percentage*without_nulls.shape[1]\n",
    "    without_nulls = without_nulls.dropna(axis=0, thresh=row_not_missing)\n",
    "    \n",
    "    nulls_count = sum(without_nulls.isnull().sum())\n",
    "    \n",
    "#filling nulls with medians\n",
    "    for feature in list(without_nulls):\n",
    "        without_nulls[feature].fillna(without_nulls[feature].median(), inplace=True)\n",
    "    return nulls_count, without_nulls"
   ]
  },
  {
   "cell_type": "code",
   "execution_count": 48,
   "metadata": {},
   "outputs": [
    {
     "data": {
      "text/plain": [
       "(198,\n",
       "                    Barro-Lee: Percentage Of Population Age 15+ With No Education  \\\n",
       " country_doc_id_id                                                                  \n",
       " ALB                                                             3.28               \n",
       " AND                                                             2.84               \n",
       " ARM                                                             0.60               \n",
       " AUS                                                             0.72               \n",
       " AUT                                                             1.29               \n",
       " ...                                                              ...               \n",
       " UGA                                                            12.18               \n",
       " UKR                                                             1.25               \n",
       " URY                                                             1.34               \n",
       " USA                                                             0.35               \n",
       " VCT                                                             2.84               \n",
       " \n",
       "                    GDP per capita (current US$)  \\\n",
       " country_doc_id_id                                 \n",
       " ALB                                 4094.362119   \n",
       " AND                                39736.354063   \n",
       " ARM                                 3218.372707   \n",
       " AUS                                52022.125596   \n",
       " AUT                                46858.043273   \n",
       " ...                                         ...   \n",
       " UGA                                  622.498846   \n",
       " UKR                                 2965.142365   \n",
       " URY                                11992.016627   \n",
       " USA                                48466.823375   \n",
       " VCT                                 6292.789829   \n",
       " \n",
       "                    GINI index (World Bank estimate)  \\\n",
       " country_doc_id_id                                     \n",
       " ALB                                           33.15   \n",
       " AND                                           33.15   \n",
       " ARM                                           30.00   \n",
       " AUS                                           34.70   \n",
       " AUT                                           30.30   \n",
       " ...                                             ...   \n",
       " UGA                                           33.15   \n",
       " UKR                                           24.80   \n",
       " URY                                           44.50   \n",
       " USA                                           40.30   \n",
       " VCT                                           33.15   \n",
       " \n",
       "                    Government expenditure on education, total (% of GDP)  \\\n",
       " country_doc_id_id                                                          \n",
       " ALB                                                         4.830355       \n",
       " AND                                                         3.057420       \n",
       " ARM                                                         3.249000       \n",
       " AUS                                                         5.550060       \n",
       " AUT                                                         5.700480       \n",
       " ...                                                              ...       \n",
       " UGA                                                         2.389010       \n",
       " UKR                                                         4.830355       \n",
       " URY                                                         4.830355       \n",
       " USA                                                         4.830355       \n",
       " VCT                                                         5.085230       \n",
       " \n",
       "                    Population growth (annual %)  \\\n",
       " country_doc_id_id                                 \n",
       " ALB                                   -0.496462   \n",
       " AND                                   -0.016577   \n",
       " ARM                                   -0.373712   \n",
       " AUS                                    1.555490   \n",
       " AUT                                    0.240394   \n",
       " ...                                         ...   \n",
       " UGA                                    3.186619   \n",
       " UKR                                   -0.397285   \n",
       " URY                                    0.286155   \n",
       " USA                                    0.827846   \n",
       " VCT                                   -0.029555   \n",
       " \n",
       "                    Share of youth not in education, employment or training, total (% of youth population)  \\\n",
       " country_doc_id_id                                                                                           \n",
       " ALB                                                        29.501900                                        \n",
       " AND                                                        15.436100                                        \n",
       " ARM                                                        15.436100                                        \n",
       " AUS                                                        11.320000                                        \n",
       " AUT                                                         7.420000                                        \n",
       " ...                                                              ...                                        \n",
       " UGA                                                        15.436100                                        \n",
       " UKR                                                        15.436100                                        \n",
       " URY                                                        18.123600                                        \n",
       " USA                                                        19.884899                                        \n",
       " VCT                                                        15.436100                                        \n",
       " \n",
       "                    Total alcohol consumption per capita (liters of pure alcohol, projected estimates, 15+ years of age)  \\\n",
       " country_doc_id_id                                                                                                         \n",
       " ALB                                                              7.9                                                      \n",
       " AND                                                             11.4                                                      \n",
       " ARM                                                              5.6                                                      \n",
       " AUS                                                             12.5                                                      \n",
       " AUT                                                             12.0                                                      \n",
       " ...                                                              ...                                                      \n",
       " UGA                                                             13.2                                                      \n",
       " UKR                                                             14.3                                                      \n",
       " URY                                                              9.2                                                      \n",
       " USA                                                              9.3                                                      \n",
       " VCT                                                              6.8                                                      \n",
       " \n",
       "                    UIS: Percentage Of Population Age 25+ With No Schooling. Total  \\\n",
       " country_doc_id_id                                                                   \n",
       " ALB                                                          2.78758                \n",
       " AND                                                          2.78758                \n",
       " ARM                                                          2.78758                \n",
       " AUS                                                          0.13187                \n",
       " AUT                                                          2.78758                \n",
       " ...                                                              ...                \n",
       " UGA                                                          2.78758                \n",
       " UKR                                                          2.78758                \n",
       " URY                                                          1.62115                \n",
       " USA                                                          0.39338                \n",
       " VCT                                                          2.78758                \n",
       " \n",
       "                    Unemployment, total (% of total labor force) (national estimate)  \\\n",
       " country_doc_id_id                                                                     \n",
       " ALB                                                        14.086000                  \n",
       " AND                                                         7.407600                  \n",
       " ARM                                                        19.007999                  \n",
       " AUS                                                         5.211300                  \n",
       " AUT                                                         4.820000                  \n",
       " ...                                                              ...                  \n",
       " UGA                                                         7.407600                  \n",
       " UKR                                                         8.100000                  \n",
       " URY                                                         7.158200                  \n",
       " USA                                                         9.633400                  \n",
       " VCT                                                         7.407600                  \n",
       " \n",
       "                     target  \n",
       " country_doc_id_id           \n",
       " ALB                   3978  \n",
       " AND                   1117  \n",
       " ARM                   3664  \n",
       " AUS                 477265  \n",
       " AUT                 155857  \n",
       " ...                    ...  \n",
       " UGA                  23429  \n",
       " UKR                 254755  \n",
       " URY                  95269  \n",
       " USA                6204601  \n",
       " VCT                   1901  \n",
       " \n",
       " [103 rows x 10 columns])"
      ]
     },
     "execution_count": 48,
     "metadata": {},
     "output_type": "execute_result"
    }
   ],
   "source": [
    "handling_nulls(data)\n",
    "#data"
   ]
  },
  {
   "cell_type": "markdown",
   "metadata": {},
   "source": [
    "# deleting outliers"
   ]
  },
  {
   "cell_type": "markdown",
   "metadata": {},
   "source": [
    "https://scikit-learn.org/stable/modules/outlier_detection.html "
   ]
  },
  {
   "cell_type": "markdown",
   "metadata": {},
   "source": [
    "https://scikit-learn.org/stable/auto_examples/neighbors/plot_lof_outlier_detection.html#sphx-glr-auto-examples-neighbors-plot-lof-outlier-detection-py "
   ]
  },
  {
   "cell_type": "code",
   "execution_count": null,
   "metadata": {},
   "outputs": [],
   "source": [
    "from sklearn.neighbors import LocalOutlierFactor"
   ]
  },
  {
   "cell_type": "code",
   "execution_count": null,
   "metadata": {},
   "outputs": [],
   "source": [
    "LOF=LocalOutlierFactor(n_neighbors=2)"
   ]
  },
  {
   "cell_type": "code",
   "execution_count": null,
   "metadata": {},
   "outputs": [],
   "source": [
    "df_with_lof = data.join(pd.DataFrame(LOF.fit_predict(data), index=data.index, columns=['lof']), how='left')"
   ]
  },
  {
   "cell_type": "code",
   "execution_count": null,
   "metadata": {},
   "outputs": [],
   "source": [
    "df_with_lof.loc[df_with_lof['lof']!=1].index"
   ]
  },
  {
   "cell_type": "code",
   "execution_count": null,
   "metadata": {},
   "outputs": [],
   "source": [
    "from sklearn.ensemble import IsolationForest"
   ]
  },
  {
   "cell_type": "code",
   "execution_count": null,
   "metadata": {},
   "outputs": [],
   "source": [
    "IF=IsolationForest(n_estimators=10)"
   ]
  },
  {
   "cell_type": "code",
   "execution_count": null,
   "metadata": {},
   "outputs": [],
   "source": [
    "df_with_forest = data.join(pd.DataFrame(IF.fit_predict(data), index=data.index, columns=['isolation_forest']), how='left')"
   ]
  },
  {
   "cell_type": "code",
   "execution_count": null,
   "metadata": {},
   "outputs": [],
   "source": [
    "df_with_forest.loc[df_with_forest['isolation_forest']!=1].index"
   ]
  },
  {
   "cell_type": "code",
   "execution_count": null,
   "metadata": {},
   "outputs": [],
   "source": [
    "from sklearn.covariance import EllipticEnvelope"
   ]
  },
  {
   "cell_type": "code",
   "execution_count": null,
   "metadata": {},
   "outputs": [],
   "source": [
    "Elliptic=EllipticEnvelope(contamination=0.5)"
   ]
  },
  {
   "cell_type": "code",
   "execution_count": null,
   "metadata": {},
   "outputs": [],
   "source": [
    "df_with_ellip = data.join(pd.DataFrame(Elliptic.fit_predict(data), index=data.index, columns=['elliptic']), how='left')"
   ]
  },
  {
   "cell_type": "code",
   "execution_count": null,
   "metadata": {},
   "outputs": [],
   "source": [
    "df_with_ellip.loc[df_with_ellip['elliptic']!=1].index"
   ]
  },
  {
   "cell_type": "code",
   "execution_count": null,
   "metadata": {},
   "outputs": [],
   "source": [
    "def outliers_fit(df, method='Local'):\n",
    "    dataset = df.copy()\n",
    "    \n",
    "    if method == 'Local':\n",
    "        from sklearn.neighbors import LocalOutlierFactor\n",
    "        LOF=LocalOutlierFactor(n_neighbors=10)\n",
    "        df_with_lof = dataset.join(pd.DataFrame(LOF.fit_predict(dataset), index=dataset.index, columns=['lof']), how='left')\n",
    "        outlier = df_with_lof.loc[df_with_lof['lof']!=1].index\n",
    "    elif method == 'IsolationForest':\n",
    "        from sklearn.ensemble import IsolationForest\n",
    "        IF=IsolationForest(n_estimators=10)\n",
    "        df_with_forest = dataset.join(pd.DataFrame(IF.fit_predict(dataset), index=dataset.index, columns=['isolation_forest']), how='left')\n",
    "        outlier = df_with_forest.loc[df_with_forest['isolation_forest']!=1].index\n",
    "    elif method == 'Elliptic':\n",
    "        from sklearn.covariance import EllipticEnvelope\n",
    "        Elliptic=EllipticEnvelope(contamination=0.1)\n",
    "        df_with_ellip = dataset.join(pd.DataFrame(Elliptic.fit_predict(dataset), index=dataset.index, columns=['elliptic']), how='left')\n",
    "        outlier = df_with_ellip.loc[df_with_ellip['elliptic']!=1].index\n",
    "    \n",
    "    dataset = dataset.drop(outlier)\n",
    "    return dataset"
   ]
  },
  {
   "cell_type": "markdown",
   "metadata": {},
   "source": [
    "# preprocessing"
   ]
  },
  {
   "cell_type": "code",
   "execution_count": 49,
   "metadata": {},
   "outputs": [],
   "source": [
    "def preprocessing(df, feature_not_missing_percentage=0.4, row_not_missing_percentage = 0.5, method='Local'):\n",
    "#deleting features with high rate of missing values\n",
    "    feature_not_missing = feature_not_missing_percentage*df.shape[0]\n",
    "    without_nulls = df.dropna(axis=1, thresh=feature_not_missing)\n",
    "#deleting rows with high rate of missing values\n",
    "    row_not_missing = row_not_missing_percentage*without_nulls.shape[1]\n",
    "    without_nulls = without_nulls.dropna(axis=0, thresh=row_not_missing)\n",
    "    \n",
    "    nulls_count = sum(without_nulls.isnull().sum())\n",
    "    \n",
    "#filling nulls with medians\n",
    "    for feature in list(without_nulls):\n",
    "        without_nulls[feature].fillna(without_nulls[feature].median(), inplace=True)\n",
    "\n",
    "#deleting outliers\n",
    "    dataset = without_nulls.copy()\n",
    "    \n",
    "    if method == 'Local':\n",
    "        from sklearn.neighbors import LocalOutlierFactor\n",
    "        LOF=LocalOutlierFactor(n_neighbors=10)\n",
    "        df_with_lof = dataset.join(pd.DataFrame(LOF.fit_predict(dataset), index=dataset.index, columns=['lof']), how='left')\n",
    "        outlier = df_with_lof.loc[df_with_lof['lof']!=1].index\n",
    "    elif method == 'IsolationForest':\n",
    "        from sklearn.ensemble import IsolationForest\n",
    "        IF=IsolationForest(n_estimators=10)\n",
    "        df_with_forest = dataset.join(pd.DataFrame(IF.fit_predict(dataset), index=dataset.index, columns=['isolation_forest']), how='left')\n",
    "        outlier = df_with_forest.loc[df_with_forest['isolation_forest']!=1].index\n",
    "    elif method == 'Elliptic':\n",
    "        from sklearn.covariance import EllipticEnvelope\n",
    "        Elliptic=EllipticEnvelope(contamination=0.1)\n",
    "        df_with_ellip = dataset.join(pd.DataFrame(Elliptic.fit_predict(dataset), index=dataset.index, columns=['elliptic']), how='left')\n",
    "        outlier = df_with_ellip.loc[df_with_ellip['elliptic']!=1].index\n",
    "    \n",
    "    dataset = dataset.drop(outlier)\n",
    "    \n",
    "    return nulls_count, dataset"
   ]
  },
  {
   "cell_type": "code",
   "execution_count": 50,
   "metadata": {},
   "outputs": [
    {
     "data": {
      "text/html": [
       "<div>\n",
       "<style scoped>\n",
       "    .dataframe tbody tr th:only-of-type {\n",
       "        vertical-align: middle;\n",
       "    }\n",
       "\n",
       "    .dataframe tbody tr th {\n",
       "        vertical-align: top;\n",
       "    }\n",
       "\n",
       "    .dataframe thead th {\n",
       "        text-align: right;\n",
       "    }\n",
       "</style>\n",
       "<table border=\"1\" class=\"dataframe\">\n",
       "  <thead>\n",
       "    <tr style=\"text-align: right;\">\n",
       "      <th></th>\n",
       "      <th>Barro-Lee: Percentage Of Population Age 15+ With No Education</th>\n",
       "      <th>GDP per capita (current US$)</th>\n",
       "      <th>GINI index (World Bank estimate)</th>\n",
       "      <th>Government expenditure on education, total (% of GDP)</th>\n",
       "      <th>Population growth (annual %)</th>\n",
       "      <th>Share of youth not in education, employment or training, total (% of youth population)</th>\n",
       "      <th>Total alcohol consumption per capita (liters of pure alcohol, projected estimates, 15+ years of age)</th>\n",
       "      <th>Unemployment, total (% of total labor force) (national estimate)</th>\n",
       "      <th>target</th>\n",
       "    </tr>\n",
       "    <tr>\n",
       "      <th>country_doc_id_id</th>\n",
       "      <th></th>\n",
       "      <th></th>\n",
       "      <th></th>\n",
       "      <th></th>\n",
       "      <th></th>\n",
       "      <th></th>\n",
       "      <th></th>\n",
       "      <th></th>\n",
       "      <th></th>\n",
       "    </tr>\n",
       "  </thead>\n",
       "  <tbody>\n",
       "    <tr>\n",
       "      <th>ALB</th>\n",
       "      <td>3.28</td>\n",
       "      <td>4094.362119</td>\n",
       "      <td>33.15</td>\n",
       "      <td>4.830355</td>\n",
       "      <td>-0.496462</td>\n",
       "      <td>29.501900</td>\n",
       "      <td>7.9</td>\n",
       "      <td>14.086000</td>\n",
       "      <td>3978</td>\n",
       "    </tr>\n",
       "    <tr>\n",
       "      <th>ARM</th>\n",
       "      <td>0.60</td>\n",
       "      <td>3218.372707</td>\n",
       "      <td>30.00</td>\n",
       "      <td>3.249000</td>\n",
       "      <td>-0.373712</td>\n",
       "      <td>15.436100</td>\n",
       "      <td>5.6</td>\n",
       "      <td>19.007999</td>\n",
       "      <td>3664</td>\n",
       "    </tr>\n",
       "    <tr>\n",
       "      <th>AUT</th>\n",
       "      <td>1.29</td>\n",
       "      <td>46858.043273</td>\n",
       "      <td>30.30</td>\n",
       "      <td>5.700480</td>\n",
       "      <td>0.240394</td>\n",
       "      <td>7.420000</td>\n",
       "      <td>12.0</td>\n",
       "      <td>4.820000</td>\n",
       "      <td>155857</td>\n",
       "    </tr>\n",
       "    <tr>\n",
       "      <th>AZE</th>\n",
       "      <td>2.84</td>\n",
       "      <td>5842.805784</td>\n",
       "      <td>33.15</td>\n",
       "      <td>2.780620</td>\n",
       "      <td>1.189788</td>\n",
       "      <td>15.436100</td>\n",
       "      <td>2.9</td>\n",
       "      <td>5.630000</td>\n",
       "      <td>3868</td>\n",
       "    </tr>\n",
       "    <tr>\n",
       "      <th>BEL</th>\n",
       "      <td>4.67</td>\n",
       "      <td>44141.878142</td>\n",
       "      <td>28.40</td>\n",
       "      <td>6.407990</td>\n",
       "      <td>0.913639</td>\n",
       "      <td>10.860000</td>\n",
       "      <td>11.4</td>\n",
       "      <td>8.292500</td>\n",
       "      <td>228355</td>\n",
       "    </tr>\n",
       "    <tr>\n",
       "      <th>...</th>\n",
       "      <td>...</td>\n",
       "      <td>...</td>\n",
       "      <td>...</td>\n",
       "      <td>...</td>\n",
       "      <td>...</td>\n",
       "      <td>...</td>\n",
       "      <td>...</td>\n",
       "      <td>...</td>\n",
       "      <td>...</td>\n",
       "    </tr>\n",
       "    <tr>\n",
       "      <th>TUR</th>\n",
       "      <td>9.18</td>\n",
       "      <td>10672.389245</td>\n",
       "      <td>38.80</td>\n",
       "      <td>4.830355</td>\n",
       "      <td>1.400093</td>\n",
       "      <td>32.290001</td>\n",
       "      <td>2.2</td>\n",
       "      <td>10.659700</td>\n",
       "      <td>179586</td>\n",
       "    </tr>\n",
       "    <tr>\n",
       "      <th>UGA</th>\n",
       "      <td>12.18</td>\n",
       "      <td>622.498846</td>\n",
       "      <td>33.15</td>\n",
       "      <td>2.389010</td>\n",
       "      <td>3.186619</td>\n",
       "      <td>15.436100</td>\n",
       "      <td>13.2</td>\n",
       "      <td>7.407600</td>\n",
       "      <td>23429</td>\n",
       "    </tr>\n",
       "    <tr>\n",
       "      <th>UKR</th>\n",
       "      <td>1.25</td>\n",
       "      <td>2965.142365</td>\n",
       "      <td>24.80</td>\n",
       "      <td>4.830355</td>\n",
       "      <td>-0.397285</td>\n",
       "      <td>15.436100</td>\n",
       "      <td>14.3</td>\n",
       "      <td>8.100000</td>\n",
       "      <td>254755</td>\n",
       "    </tr>\n",
       "    <tr>\n",
       "      <th>URY</th>\n",
       "      <td>1.34</td>\n",
       "      <td>11992.016627</td>\n",
       "      <td>44.50</td>\n",
       "      <td>4.830355</td>\n",
       "      <td>0.286155</td>\n",
       "      <td>18.123600</td>\n",
       "      <td>9.2</td>\n",
       "      <td>7.158200</td>\n",
       "      <td>95269</td>\n",
       "    </tr>\n",
       "    <tr>\n",
       "      <th>VCT</th>\n",
       "      <td>2.84</td>\n",
       "      <td>6292.789829</td>\n",
       "      <td>33.15</td>\n",
       "      <td>5.085230</td>\n",
       "      <td>-0.029555</td>\n",
       "      <td>15.436100</td>\n",
       "      <td>6.8</td>\n",
       "      <td>7.407600</td>\n",
       "      <td>1901</td>\n",
       "    </tr>\n",
       "  </tbody>\n",
       "</table>\n",
       "<p>77 rows × 9 columns</p>\n",
       "</div>"
      ],
      "text/plain": [
       "                   Barro-Lee: Percentage Of Population Age 15+ With No Education  \\\n",
       "country_doc_id_id                                                                  \n",
       "ALB                                                             3.28               \n",
       "ARM                                                             0.60               \n",
       "AUT                                                             1.29               \n",
       "AZE                                                             2.84               \n",
       "BEL                                                             4.67               \n",
       "...                                                              ...               \n",
       "TUR                                                             9.18               \n",
       "UGA                                                            12.18               \n",
       "UKR                                                             1.25               \n",
       "URY                                                             1.34               \n",
       "VCT                                                             2.84               \n",
       "\n",
       "                   GDP per capita (current US$)  \\\n",
       "country_doc_id_id                                 \n",
       "ALB                                 4094.362119   \n",
       "ARM                                 3218.372707   \n",
       "AUT                                46858.043273   \n",
       "AZE                                 5842.805784   \n",
       "BEL                                44141.878142   \n",
       "...                                         ...   \n",
       "TUR                                10672.389245   \n",
       "UGA                                  622.498846   \n",
       "UKR                                 2965.142365   \n",
       "URY                                11992.016627   \n",
       "VCT                                 6292.789829   \n",
       "\n",
       "                   GINI index (World Bank estimate)  \\\n",
       "country_doc_id_id                                     \n",
       "ALB                                           33.15   \n",
       "ARM                                           30.00   \n",
       "AUT                                           30.30   \n",
       "AZE                                           33.15   \n",
       "BEL                                           28.40   \n",
       "...                                             ...   \n",
       "TUR                                           38.80   \n",
       "UGA                                           33.15   \n",
       "UKR                                           24.80   \n",
       "URY                                           44.50   \n",
       "VCT                                           33.15   \n",
       "\n",
       "                   Government expenditure on education, total (% of GDP)  \\\n",
       "country_doc_id_id                                                          \n",
       "ALB                                                         4.830355       \n",
       "ARM                                                         3.249000       \n",
       "AUT                                                         5.700480       \n",
       "AZE                                                         2.780620       \n",
       "BEL                                                         6.407990       \n",
       "...                                                              ...       \n",
       "TUR                                                         4.830355       \n",
       "UGA                                                         2.389010       \n",
       "UKR                                                         4.830355       \n",
       "URY                                                         4.830355       \n",
       "VCT                                                         5.085230       \n",
       "\n",
       "                   Population growth (annual %)  \\\n",
       "country_doc_id_id                                 \n",
       "ALB                                   -0.496462   \n",
       "ARM                                   -0.373712   \n",
       "AUT                                    0.240394   \n",
       "AZE                                    1.189788   \n",
       "BEL                                    0.913639   \n",
       "...                                         ...   \n",
       "TUR                                    1.400093   \n",
       "UGA                                    3.186619   \n",
       "UKR                                   -0.397285   \n",
       "URY                                    0.286155   \n",
       "VCT                                   -0.029555   \n",
       "\n",
       "                   Share of youth not in education, employment or training, total (% of youth population)  \\\n",
       "country_doc_id_id                                                                                           \n",
       "ALB                                                        29.501900                                        \n",
       "ARM                                                        15.436100                                        \n",
       "AUT                                                         7.420000                                        \n",
       "AZE                                                        15.436100                                        \n",
       "BEL                                                        10.860000                                        \n",
       "...                                                              ...                                        \n",
       "TUR                                                        32.290001                                        \n",
       "UGA                                                        15.436100                                        \n",
       "UKR                                                        15.436100                                        \n",
       "URY                                                        18.123600                                        \n",
       "VCT                                                        15.436100                                        \n",
       "\n",
       "                   Total alcohol consumption per capita (liters of pure alcohol, projected estimates, 15+ years of age)  \\\n",
       "country_doc_id_id                                                                                                         \n",
       "ALB                                                              7.9                                                      \n",
       "ARM                                                              5.6                                                      \n",
       "AUT                                                             12.0                                                      \n",
       "AZE                                                              2.9                                                      \n",
       "BEL                                                             11.4                                                      \n",
       "...                                                              ...                                                      \n",
       "TUR                                                              2.2                                                      \n",
       "UGA                                                             13.2                                                      \n",
       "UKR                                                             14.3                                                      \n",
       "URY                                                              9.2                                                      \n",
       "VCT                                                              6.8                                                      \n",
       "\n",
       "                   Unemployment, total (% of total labor force) (national estimate)  \\\n",
       "country_doc_id_id                                                                     \n",
       "ALB                                                        14.086000                  \n",
       "ARM                                                        19.007999                  \n",
       "AUT                                                         4.820000                  \n",
       "AZE                                                         5.630000                  \n",
       "BEL                                                         8.292500                  \n",
       "...                                                              ...                  \n",
       "TUR                                                        10.659700                  \n",
       "UGA                                                         7.407600                  \n",
       "UKR                                                         8.100000                  \n",
       "URY                                                         7.158200                  \n",
       "VCT                                                         7.407600                  \n",
       "\n",
       "                   target  \n",
       "country_doc_id_id          \n",
       "ALB                  3978  \n",
       "ARM                  3664  \n",
       "AUT                155857  \n",
       "AZE                  3868  \n",
       "BEL                228355  \n",
       "...                   ...  \n",
       "TUR                179586  \n",
       "UGA                 23429  \n",
       "UKR                254755  \n",
       "URY                 95269  \n",
       "VCT                  1901  \n",
       "\n",
       "[77 rows x 9 columns]"
      ]
     },
     "execution_count": 50,
     "metadata": {},
     "output_type": "execute_result"
    }
   ],
   "source": [
    "nulls, data = preprocessing(data)\n",
    "data"
   ]
  },
  {
   "cell_type": "code",
   "execution_count": 51,
   "metadata": {},
   "outputs": [
    {
     "data": {
      "text/plain": [
       "131"
      ]
     },
     "execution_count": 51,
     "metadata": {},
     "output_type": "execute_result"
    }
   ],
   "source": [
    "nulls"
   ]
  },
  {
   "cell_type": "markdown",
   "metadata": {},
   "source": [
    "# feature importances"
   ]
  },
  {
   "cell_type": "code",
   "execution_count": 7,
   "metadata": {},
   "outputs": [],
   "source": [
    "import matplotlib.pyplot as plt\n",
    "%matplotlib inline"
   ]
  },
  {
   "cell_type": "code",
   "execution_count": 8,
   "metadata": {},
   "outputs": [],
   "source": [
    "Y = data['target']\n",
    "X = data.drop(['target'], axis=1)"
   ]
  },
  {
   "cell_type": "markdown",
   "metadata": {},
   "source": [
    "### linear regression"
   ]
  },
  {
   "cell_type": "code",
   "execution_count": 9,
   "metadata": {},
   "outputs": [],
   "source": [
    "import statsmodels.formula.api as sm"
   ]
  },
  {
   "cell_type": "code",
   "execution_count": null,
   "metadata": {},
   "outputs": [],
   "source": [
    "result_ols = sm.OLS(Y, X).fit() \n",
    "result_ols.summary()"
   ]
  },
  {
   "cell_type": "code",
   "execution_count": null,
   "metadata": {},
   "outputs": [],
   "source": [
    "imp_ols = result_ols.params\n",
    "imp_ols"
   ]
  },
  {
   "cell_type": "code",
   "execution_count": null,
   "metadata": {},
   "outputs": [],
   "source": [
    "imp_ols_r = result_ols.params\n",
    "mx = max(imp_ols_r)\n",
    "mn = min(imp_ols_r)\n",
    "imp_ols_arr = []\n",
    "for i in range(len(imp_ols_r)):\n",
    "    imp_ols_arr.append((imp_ols_r[i]-mn)/(mx-mn))\n",
    "imp_ols_arr"
   ]
  },
  {
   "cell_type": "code",
   "execution_count": null,
   "metadata": {},
   "outputs": [],
   "source": [
    "pd.Series(imp_ols_arr, index=X.columns).sort_values().plot(kind='barh', figsize=(12, 8))"
   ]
  },
  {
   "cell_type": "code",
   "execution_count": null,
   "metadata": {},
   "outputs": [],
   "source": [
    "import math"
   ]
  },
  {
   "cell_type": "code",
   "execution_count": null,
   "metadata": {},
   "outputs": [],
   "source": [
    "imp_ols = imp_ols/math.sqrt(sum(imp_ols*imp_ols))\n",
    "imp_ols"
   ]
  },
  {
   "cell_type": "code",
   "execution_count": null,
   "metadata": {},
   "outputs": [],
   "source": [
    "imp_ols = pd.DataFrame(imp_ols, index=imp_ols.index, columns=['importance'])\n",
    "imp_ols.sort_values('importance').plot(kind='barh', figsize=(12, 8))"
   ]
  },
  {
   "cell_type": "code",
   "execution_count": null,
   "metadata": {},
   "outputs": [],
   "source": [
    "imp_ols = pd.DataFrame(result_ols.params, index=result_ols.params.index, columns=['importance'])\n",
    "imp_ols.sort_values('importance').plot(kind='barh', figsize=(12, 8))"
   ]
  },
  {
   "cell_type": "markdown",
   "metadata": {},
   "source": [
    "### random forest regressor"
   ]
  },
  {
   "cell_type": "code",
   "execution_count": null,
   "metadata": {},
   "outputs": [],
   "source": [
    "from sklearn.ensemble import RandomForestRegressor\n",
    "import numpy as np"
   ]
  },
  {
   "cell_type": "code",
   "execution_count": null,
   "metadata": {},
   "outputs": [],
   "source": [
    "np.random.seed(0)"
   ]
  },
  {
   "cell_type": "code",
   "execution_count": null,
   "metadata": {},
   "outputs": [],
   "source": [
    "result_rf = RandomForestRegressor(n_estimators=10)"
   ]
  },
  {
   "cell_type": "code",
   "execution_count": null,
   "metadata": {},
   "outputs": [],
   "source": [
    "result_rf.fit(X,Y)"
   ]
  },
  {
   "cell_type": "code",
   "execution_count": null,
   "metadata": {},
   "outputs": [],
   "source": [
    "result_rf.feature_importances_ "
   ]
  },
  {
   "cell_type": "code",
   "execution_count": null,
   "metadata": {},
   "outputs": [],
   "source": [
    "imp_rf = pd.Series(result_rf.feature_importances_, index=X.columns)\n",
    "imp_rf"
   ]
  },
  {
   "cell_type": "code",
   "execution_count": null,
   "metadata": {},
   "outputs": [],
   "source": [
    "imp_rf = pd.DataFrame(result_rf.feature_importances_, index=X.columns, columns=['importance'])\n",
    "imp_rf.sort_values('importance').plot(kind='barh', figsize=(12, 8))"
   ]
  },
  {
   "cell_type": "markdown",
   "metadata": {},
   "source": [
    "# correlation"
   ]
  },
  {
   "cell_type": "code",
   "execution_count": null,
   "metadata": {},
   "outputs": [],
   "source": [
    "data.corr().drop(['target'], axis=0)['target'].sort_values().plot(kind='barh', figsize=(12, 8))"
   ]
  },
  {
   "cell_type": "code",
   "execution_count": null,
   "metadata": {},
   "outputs": [],
   "source": [
    "pd.Series(imp_ols_arr, index=X.columns).sort_values().plot(kind='barh', figsize=(12, 8))"
   ]
  },
  {
   "cell_type": "code",
   "execution_count": 9,
   "metadata": {},
   "outputs": [],
   "source": [
    "def feature_importances(dataset, method_fi='RandomForest'):\n",
    "    \n",
    "    Y = dataset['target']\n",
    "    X = dataset.drop(['target'], axis=1)\n",
    "    \n",
    "    if method_fi == 'RandomForest':\n",
    "        from sklearn.ensemble import RandomForestRegressor\n",
    "        import numpy\n",
    "        numpy.random.seed(0)\n",
    "        result_rf = RandomForestRegressor(n_estimators=10)\n",
    "        result_rf.fit(X,Y)\n",
    "        feature_imp = pd.Series(result_rf.feature_importances_, index=X.columns)\n",
    "    elif method_fi == 'Linear':\n",
    "        import statsmodels.regression.linear_model\n",
    "        import math\n",
    "        result_ols = statsmodels.regression.linear_model.OLS(Y, X).fit()\n",
    "        imp_ols = result_ols.params\n",
    "        feature_imp = imp_ols/math.sqrt(sum(imp_ols*imp_ols))\n",
    "    elif method_fi == 'Correlation':\n",
    "        feature_imp = dataset.corr().drop(['target'], axis=0)['target']\n",
    "        \n",
    "    return feature_imp"
   ]
  },
  {
   "cell_type": "code",
   "execution_count": 10,
   "metadata": {},
   "outputs": [
    {
     "data": {
      "text/plain": [
       "Barro-Lee: Percentage Of Population Age 15+ With No Education                                           0.001724\n",
       "GDP per capita (current US$)                                                                            0.000365\n",
       "GINI index (World Bank estimate)                                                                       -0.083612\n",
       "Government expenditure on education, total (% of GDP)                                                   0.111522\n",
       "Population growth (annual %)                                                                           -0.624336\n",
       "Share of youth not in education, employment or training, total (% of youth population)                  0.337683\n",
       "Total alcohol consumption per capita (liters of pure alcohol, projected estimates, 15+ years of age)    0.590149\n",
       "UIS: Percentage Of Population Age 25+ With No Schooling. Total                                          0.037657\n",
       "Unemployment, total (% of total labor force) (national estimate)                                       -0.356440\n",
       "dtype: float64"
      ]
     },
     "execution_count": 10,
     "metadata": {},
     "output_type": "execute_result"
    }
   ],
   "source": [
    "feature_importances(data, 'Linear')"
   ]
  },
  {
   "cell_type": "code",
   "execution_count": null,
   "metadata": {},
   "outputs": [],
   "source": []
  },
  {
   "cell_type": "code",
   "execution_count": null,
   "metadata": {},
   "outputs": [],
   "source": []
  }
 ],
 "metadata": {
  "kernelspec": {
   "display_name": "Python 3",
   "language": "python",
   "name": "python3"
  },
  "language_info": {
   "codemirror_mode": {
    "name": "ipython",
    "version": 3
   },
   "file_extension": ".py",
   "mimetype": "text/x-python",
   "name": "python",
   "nbconvert_exporter": "python",
   "pygments_lexer": "ipython3",
   "version": "3.7.3"
  }
 },
 "nbformat": 4,
 "nbformat_minor": 2
}
